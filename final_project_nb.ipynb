{
 "cells": [
  {
   "cell_type": "code",
   "execution_count": 1,
   "metadata": {
    "pycharm": {
     "is_executing": false
    }
   },
   "outputs": [
    {
     "name": "stderr",
     "output_type": "stream",
     "text": [
      "/Users/preston/PycharmProjects/MLProject/venv/lib/python2.7/site-packages/sklearn/cross_validation.py:44: DeprecationWarning: This module was deprecated in version 0.18 in favor of the model_selection module into which all the refactored classes and functions are moved. Also note that the interface of the new CV iterators are different from that of this module. This module will be removed in 0.20.\n",
      "  \"This module will be removed in 0.20.\", DeprecationWarning)\n"
     ]
    }
   ],
   "source": [
    "import sys\n",
    "import pickle\n",
    "\n",
    "# Support packages\n",
    "import numpy as np\n",
    "import pandas as pd\n",
    "\n",
    "# Plotting packages\n",
    "import seaborn as sns\n",
    "import matplotlib.pyplot as plt\n",
    "\n",
    "# Local packages/files\n",
    "sys.path.append(\"../tools/\")\n",
    "from feature_format import featureFormat, targetFeatureSplit\n",
    "from tester import dump_classifier_and_data\n"
   ]
  },
  {
   "cell_type": "code",
   "execution_count": 2,
   "metadata": {
    "pycharm": {
     "is_executing": false,
     "name": "#%%\n"
    }
   },
   "outputs": [],
   "source": [
    "### Load the dictionary containing the dataset\n",
    "with open(\"final_project_dataset.pkl\", \"r\") as data_file:\n",
    "    data_dict = pickle.load(data_file)\n"
   ]
  },
  {
   "cell_type": "markdown",
   "metadata": {
    "pycharm": {
     "name": "#%% md\n"
    }
   },
   "source": []
  },
  {
   "cell_type": "markdown",
   "metadata": {},
   "source": [
    "# Question 1 \n",
    "Summarize for us the goal of this project and how machine learning is useful in trying to accomplish it. As part of your answer, give some background on the dataset and how it can be used to answer the project question. Were there any outliers in the data when you got it, and how did you handle those?**\n",
    "\n",
    "> The goal of this project is to train a supervised maching learning algorithm using data obtained from the Enron Scandal. This data set contains financial information and email data from various employees in the former company. Enron was an energy commodities and services corporation that went bankrupt in 2001 due to fraud. You can learn more about the scandal [here](https://en.wikipedia.org/wiki/Enron_scandal). This ML project will attempt to classify whether an Enron employee was a person of interest (POI).  \n",
    "<br>\n",
    "<br>\n",
    "\n",
    "\n",
    "> I used a scatterplot chart to show the correlation between total_payments and total_stock_value. I could see that there was a datapoint that was clearly an outlier. Sorting the chart by 'total_payments', I could see that this was 'LAY KENNETH L' with 103,559,793.00. The next highest was 'FREVERT MARK A' with 17,252,530.00. I decided to remove 'LAY KENNETH L' so it would not alter the output too much. "
   ]
  },
  {
   "cell_type": "markdown",
   "metadata": {},
   "source": [
    "I converted the dataset to a pandas dataframe for easier manipulation and cleaning. Using `df.info()` i could set that there were 146 rows(names) and 21 columns(attributes). Since this was a low enough amount, I printed the names and reviewed for anything that might stick out to me. The rows, 'TOTAL' and 'THE TRAVEL AGENCY IN THE PARK' stuck out particularly as these are not names. I decided to remove them from the dataset using the `df.drop()` function. While reviewing the data table, I also noticed that 'LOCKHART EUGENE E' had no data and was not listed as a 'poi' so I removed this as well. I then replaced `'NaN'` values with `np.nan` to help with my data exploration.  "
   ]
  },
  {
   "cell_type": "code",
   "execution_count": 3,
   "metadata": {
    "pycharm": {
     "is_executing": false,
     "name": "#%%\n"
    }
   },
   "outputs": [
    {
     "name": "stdout",
     "output_type": "stream",
     "text": [
      "<class 'pandas.core.frame.DataFrame'>\n",
      "Index: 146 entries, ALLEN PHILLIP K to YEAP SOON\n",
      "Data columns (total 21 columns):\n",
      "salary                       146 non-null object\n",
      "to_messages                  146 non-null object\n",
      "deferral_payments            146 non-null object\n",
      "total_payments               146 non-null object\n",
      "exercised_stock_options      146 non-null object\n",
      "bonus                        146 non-null object\n",
      "restricted_stock             146 non-null object\n",
      "shared_receipt_with_poi      146 non-null object\n",
      "restricted_stock_deferred    146 non-null object\n",
      "total_stock_value            146 non-null object\n",
      "expenses                     146 non-null object\n",
      "loan_advances                146 non-null object\n",
      "from_messages                146 non-null object\n",
      "other                        146 non-null object\n",
      "from_this_person_to_poi      146 non-null object\n",
      "poi                          146 non-null bool\n",
      "director_fees                146 non-null object\n",
      "deferred_income              146 non-null object\n",
      "long_term_incentive          146 non-null object\n",
      "email_address                146 non-null object\n",
      "from_poi_to_this_person      146 non-null object\n",
      "dtypes: bool(1), object(20)\n",
      "memory usage: 24.1+ KB\n"
     ]
    }
   ],
   "source": [
    "df = pd.DataFrame.from_dict(data_dict, orient = 'index')\n",
    "\n",
    "df.info()"
   ]
  },
  {
   "cell_type": "code",
   "execution_count": 4,
   "metadata": {
    "pycharm": {
     "is_executing": false,
     "name": "#%%\n"
    }
   },
   "outputs": [
    {
     "name": "stdout",
     "output_type": "stream",
     "text": [
      "METTS MARK\n",
      "BAXTER JOHN C\n",
      "ELLIOTT STEVEN\n",
      "CORDES WILLIAM R\n",
      "HANNON KEVIN P\n",
      "MORDAUNT KRISTINA M\n",
      "MEYER ROCKFORD G\n",
      "MCMAHON JEFFREY\n",
      "HORTON STANLEY C\n",
      "PIPER GREGORY F\n",
      "HUMPHREY GENE E\n",
      "UMANOFF ADAM S\n",
      "BLACHMAN JEREMY M\n",
      "SUNDE MARTIN\n",
      "GIBBS DANA R\n",
      "LOWRY CHARLES P\n",
      "COLWELL WESLEY\n",
      "MULLER MARK S\n",
      "JACKSON CHARLENE R\n",
      "WESTFAHL RICHARD K\n",
      "WALTERS GARETH W\n",
      "WALLS JR ROBERT H\n",
      "KITCHEN LOUISE\n",
      "CHAN RONNIE\n",
      "BELFER ROBERT\n",
      "SHANKMAN JEFFREY A\n",
      "WODRASKA JOHN\n",
      "BERGSIEKER RICHARD P\n",
      "URQUHART JOHN A\n",
      "BIBI PHILIPPE A\n",
      "RIEKER PAULA H\n",
      "WHALEY DAVID A\n",
      "BECK SALLY W\n",
      "HAUG DAVID L\n",
      "ECHOLS JOHN B\n",
      "MENDELSOHN JOHN\n",
      "HICKERSON GARY J\n",
      "CLINE KENNETH W\n",
      "LEWIS RICHARD\n",
      "HAYES ROBERT E\n",
      "MCCARTY DANNY J\n",
      "KOPPER MICHAEL J\n",
      "LEFF DANIEL P\n",
      "LAVORATO JOHN J\n",
      "BERBERIAN DAVID\n",
      "DETMERING TIMOTHY J\n",
      "WAKEHAM JOHN\n",
      "POWERS WILLIAM\n",
      "GOLD JOSEPH\n",
      "BANNANTINE JAMES M\n",
      "DUNCAN JOHN H\n",
      "SHAPIRO RICHARD S\n",
      "SHERRIFF JOHN R\n",
      "SHELBY REX\n",
      "LEMAISTRE CHARLES\n",
      "DEFFNER JOSEPH M\n",
      "KISHKILL JOSEPH G\n",
      "WHALLEY LAWRENCE G\n",
      "MCCONNELL MICHAEL S\n",
      "PIRO JIM\n",
      "DELAINEY DAVID W\n",
      "SULLIVAN-SHAKLOVITZ COLLEEN\n",
      "WROBEL BRUCE\n",
      "LINDHOLM TOD A\n",
      "MEYER JEROME J\n",
      "LAY KENNETH L\n",
      "BUTTS ROBERT H\n",
      "OLSON CINDY K\n",
      "MCDONALD REBECCA\n",
      "CUMBERLAND MICHAEL S\n",
      "GAHN ROBERT S\n",
      "MCCLELLAN GEORGE\n",
      "HERMANN ROBERT J\n",
      "SCRIMSHAW MATTHEW\n",
      "GATHMANN WILLIAM D\n",
      "HAEDICKE MARK E\n",
      "BOWEN JR RAYMOND M\n",
      "GILLIS JOHN\n",
      "FITZGERALD JAY L\n",
      "MORAN MICHAEL P\n",
      "REDMOND BRIAN L\n",
      "BAZELIDES PHILIP J\n",
      "BELDEN TIMOTHY N\n",
      "DURAN WILLIAM D\n",
      "THORN TERENCE H\n",
      "FASTOW ANDREW S\n",
      "FOY JOE\n",
      "CALGER CHRISTOPHER F\n",
      "RICE KENNETH D\n",
      "KAMINSKI WINCENTY J\n",
      "LOCKHART EUGENE E\n",
      "COX DAVID\n",
      "OVERDYKE JR JERE C\n",
      "PEREIRA PAULO V. FERRAZ\n",
      "STABLER FRANK\n",
      "SKILLING JEFFREY K\n",
      "BLAKE JR. NORMAN P\n",
      "SHERRICK JEFFREY B\n",
      "PRENTICE JAMES\n",
      "GRAY RODNEY\n",
      "PICKERING MARK R\n",
      "THE TRAVEL AGENCY IN THE PARK\n",
      "NOLES JAMES L\n",
      "KEAN STEVEN J\n",
      "TOTAL\n",
      "FOWLER PEGGY\n",
      "WASAFF GEORGE\n",
      "WHITE JR THOMAS E\n",
      "CHRISTODOULOU DIOMEDES\n",
      "ALLEN PHILLIP K\n",
      "SHARP VICTORIA T\n",
      "JAEDICKE ROBERT\n",
      "WINOKUR JR. HERBERT S\n",
      "BROWN MICHAEL\n",
      "BADUM JAMES P\n",
      "HUGHES JAMES A\n",
      "REYNOLDS LAWRENCE\n",
      "DIMICHELE RICHARD G\n",
      "BHATNAGAR SANJAY\n",
      "CARTER REBECCA C\n",
      "BUCHANAN HAROLD G\n",
      "YEAP SOON\n",
      "MURRAY JULIA H\n",
      "GARLAND C KEVIN\n",
      "DODSON KEITH\n",
      "YEAGER F SCOTT\n",
      "HIRKO JOSEPH\n",
      "DIETRICH JANET R\n",
      "DERRICK JR. JAMES V\n",
      "FREVERT MARK A\n",
      "PAI LOU L\n",
      "BAY FRANKLIN R\n",
      "HAYSLETT RODERICK J\n",
      "FUGH JOHN L\n",
      "FALLON JAMES B\n",
      "KOENIG MARK E\n",
      "SAVAGE FRANK\n",
      "IZZO LAWRENCE L\n",
      "TILNEY ELIZABETH A\n",
      "MARTIN AMANDA K\n",
      "BUY RICHARD B\n",
      "GRAMM WENDY L\n",
      "CAUSEY RICHARD A\n",
      "TAYLOR MITCHELL S\n",
      "DONAHUE JR JEFFREY M\n",
      "GLISAN JR BEN F\n"
     ]
    }
   ],
   "source": [
    "# Convert NaN strings to np.nan values\n",
    "df = df.replace('NaN', np.nan)\n",
    "\n",
    "# create a list of the employees to visually inspect the names\n",
    "names = pd.Series(list(data_dict.keys()))\n",
    "\n",
    "for i in names:\n",
    "    print(i)\n"
   ]
  },
  {
   "cell_type": "code",
   "execution_count": 5,
   "metadata": {
    "pycharm": {
     "is_executing": false,
     "name": "#%%\n"
    }
   },
   "outputs": [
    {
     "name": "stdout",
     "output_type": "stream",
     "text": [
      "GRAMM WENDY L has 85.71% null values poi =  False\n",
      "LOCKHART EUGENE E has 95.24% null values poi =  False\n",
      "THE TRAVEL AGENCY IN THE PARK has 85.71% null values poi =  False\n",
      "WHALEY DAVID A has 85.71% null values poi =  False\n",
      "WROBEL BRUCE has 85.71% null values poi =  False\n"
     ]
    }
   ],
   "source": [
    "# This code will check how many values are missing from each individual. \n",
    "\n",
    "na_dict = {}\n",
    "\n",
    "for i in range(len(df.index)):\n",
    "    # print \"Row:\", i+1, \"has\", \"{0:.0%}\".format(float(df.iloc[i].isnull().sum()) / 21), \"null values.\"\n",
    "    na_dict[i] = float(df.iloc[i].isnull().sum()) / 21\n",
    "\n",
    "for k, v in na_dict.iteritems():\n",
    "    if v > .85:\n",
    "        print df.index[k], 'has', \"{0:.2%}\".format(v), 'null values', 'poi = ', df.loc[df.index[k]]['poi']\n"
   ]
  },
  {
   "cell_type": "code",
   "execution_count": 6,
   "metadata": {
    "pycharm": {
     "is_executing": false,
     "name": "#%%\n"
    }
   },
   "outputs": [],
   "source": [
    "# Rows TOTAL and THE TRAVEL AGENCY IN THE PARK are not people and so will be removed from the dataset. \n",
    "# We will remove the names that have more than 85% missing values and are not marked as poi.\n",
    "\n",
    "df = df.drop(['TOTAL', # Not a name\n",
    "              'THE TRAVEL AGENCY IN THE PARK', # Not a name\n",
    "              'LOCKHART EUGENE E', # Missing 95.24% data\n",
    "              'GRAMM WENDY L', # Missing 85.71% data\n",
    "              'WHALEY DAVID A', # Missing 85.71% data\n",
    "              'WROBEL BRUCE']) # Missing 85.71% data"
   ]
  },
  {
   "cell_type": "code",
   "execution_count": 7,
   "metadata": {
    "pycharm": {
     "is_executing": false,
     "name": "#%%\n"
    }
   },
   "outputs": [
    {
     "data": {
      "text/plain": [
       "poi                          1.000000\n",
       "total_stock_value            0.878571\n",
       "total_payments               0.871429\n",
       "email_address                0.792857\n",
       "restricted_stock             0.778571\n",
       "exercised_stock_options      0.707143\n",
       "expenses                     0.671429\n",
       "salary                       0.671429\n",
       "other                        0.650000\n",
       "from_messages                0.614286\n",
       "from_this_person_to_poi      0.614286\n",
       "shared_receipt_with_poi      0.614286\n",
       "to_messages                  0.614286\n",
       "from_poi_to_this_person      0.614286\n",
       "bonus                        0.578571\n",
       "long_term_incentive          0.464286\n",
       "deferred_income              0.342857\n",
       "deferral_payments            0.271429\n",
       "restricted_stock_deferred    0.121429\n",
       "director_fees                0.107143\n",
       "loan_advances                0.021429\n",
       "dtype: float64"
      ]
     },
     "execution_count": 7,
     "metadata": {},
     "output_type": "execute_result"
    }
   ],
   "source": [
    "na_percentage = df.count() / len(df)\n",
    "\n",
    "na_percentage.sort_values(ascending=False)"
   ]
  },
  {
   "cell_type": "markdown",
   "metadata": {},
   "source": [
    "Since it is difficult to work with missing data, I decided to remove the features that had more than 50% missing data. Their were 6 features that were missing more than 50% data, these were the features that I removed.  \n",
    "- long_term_incentive          0.454545\n",
    "- deferred_income              0.335664\n",
    "- deferral_payments            0.265734\n",
    "- restricted_stock_deferred    0.118881\n",
    "- director_fees                0.111888\n",
    "- loan_advances                0.020979\n",
    "\n",
    "\n",
    "Since there is a lot of missing data in these columns, I will not use this information in my analysis. I will remove email_address as it will not be needed. "
   ]
  },
  {
   "cell_type": "code",
   "execution_count": 8,
   "metadata": {
    "pycharm": {
     "is_executing": false,
     "name": "#%%\n"
    }
   },
   "outputs": [
    {
     "data": {
      "text/plain": [
       "(140, 14)"
      ]
     },
     "execution_count": 8,
     "metadata": {},
     "output_type": "execute_result"
    }
   ],
   "source": [
    "df = df.drop(['long_term_incentive', \n",
    "              'deferred_income', \n",
    "              'deferral_payments', \n",
    "              'restricted_stock_deferred',\n",
    "              'director_fees', \n",
    "              'loan_advances', \n",
    "              'email_address'], axis=1)\n",
    "\n",
    "df.shape\n"
   ]
  },
  {
   "cell_type": "markdown",
   "metadata": {
    "pycharm": {
     "name": "#%% md\n"
    }
   },
   "source": [
    "To better get an idea of the data, I am going to apply the data to a scatterplot using 'total_stock_value' and 'total_payments' to get a visualization. "
   ]
  },
  {
   "cell_type": "code",
   "execution_count": 9,
   "metadata": {
    "pycharm": {
     "is_executing": false,
     "name": "#%%\n"
    }
   },
   "outputs": [
    {
     "data": {
      "image/png": "[encoded data removed]",
      "text/plain": [
       "<Figure size 566.125x504 with 1 Axes>"
      ]
     },
     "metadata": {
      "needs_background": "light"
     },
     "output_type": "display_data"
    }
   ],
   "source": [
    "# Graph the salary and bonus's for each name and see if there is a correlation to the POI's\n",
    "sns.lmplot('total_payments', 'total_stock_value', data=df, hue='poi', fit_reg=False, height=7)\n",
    "plt.show()\n"
   ]
  },
  {
   "cell_type": "markdown",
   "metadata": {
    "pycharm": {
     "name": "#%% md\n"
    }
   },
   "source": [
    "I can see that there is one point that is much larger than the others. To find out which point this is, I am going to sort the data by 'total_payments'."
   ]
  },
  {
   "cell_type": "code",
   "execution_count": 10,
   "metadata": {
    "pycharm": {
     "is_executing": false,
     "name": "#%%\n"
    }
   },
   "outputs": [
    {
     "data": {
      "text/html": [
       "<div>\n",
       "<style scoped>\n",
       "    .dataframe tbody tr th:only-of-type {\n",
       "        vertical-align: middle;\n",
       "    }\n",
       "\n",
       "    .dataframe tbody tr th {\n",
       "        vertical-align: top;\n",
       "    }\n",
       "\n",
       "    .dataframe thead th {\n",
       "        text-align: right;\n",
       "    }\n",
       "</style>\n",
       "<table border=\"1\" class=\"dataframe\">\n",
       "  <thead>\n",
       "    <tr style=\"text-align: right;\">\n",
       "      <th></th>\n",
       "      <th>salary</th>\n",
       "      <th>to_messages</th>\n",
       "      <th>total_payments</th>\n",
       "      <th>exercised_stock_options</th>\n",
       "      <th>bonus</th>\n",
       "      <th>restricted_stock</th>\n",
       "      <th>shared_receipt_with_poi</th>\n",
       "      <th>total_stock_value</th>\n",
       "      <th>expenses</th>\n",
       "      <th>from_messages</th>\n",
       "      <th>other</th>\n",
       "      <th>from_this_person_to_poi</th>\n",
       "      <th>poi</th>\n",
       "      <th>from_poi_to_this_person</th>\n",
       "    </tr>\n",
       "  </thead>\n",
       "  <tbody>\n",
       "    <tr>\n",
       "      <th>LAY KENNETH L</th>\n",
       "      <td>1072321.0</td>\n",
       "      <td>4273.0</td>\n",
       "      <td>103559793.0</td>\n",
       "      <td>34348384.0</td>\n",
       "      <td>7000000.0</td>\n",
       "      <td>14761694.0</td>\n",
       "      <td>2411.0</td>\n",
       "      <td>49110078.0</td>\n",
       "      <td>99832.0</td>\n",
       "      <td>36.0</td>\n",
       "      <td>10359729.0</td>\n",
       "      <td>16.0</td>\n",
       "      <td>True</td>\n",
       "      <td>123.0</td>\n",
       "    </tr>\n",
       "    <tr>\n",
       "      <th>FREVERT MARK A</th>\n",
       "      <td>1060932.0</td>\n",
       "      <td>3275.0</td>\n",
       "      <td>17252530.0</td>\n",
       "      <td>10433518.0</td>\n",
       "      <td>2000000.0</td>\n",
       "      <td>4188667.0</td>\n",
       "      <td>2979.0</td>\n",
       "      <td>14622185.0</td>\n",
       "      <td>86987.0</td>\n",
       "      <td>21.0</td>\n",
       "      <td>7427621.0</td>\n",
       "      <td>6.0</td>\n",
       "      <td>False</td>\n",
       "      <td>242.0</td>\n",
       "    </tr>\n",
       "    <tr>\n",
       "      <th>BHATNAGAR SANJAY</th>\n",
       "      <td>NaN</td>\n",
       "      <td>523.0</td>\n",
       "      <td>15456290.0</td>\n",
       "      <td>2604490.0</td>\n",
       "      <td>NaN</td>\n",
       "      <td>-2604490.0</td>\n",
       "      <td>463.0</td>\n",
       "      <td>NaN</td>\n",
       "      <td>NaN</td>\n",
       "      <td>29.0</td>\n",
       "      <td>137864.0</td>\n",
       "      <td>1.0</td>\n",
       "      <td>False</td>\n",
       "      <td>0.0</td>\n",
       "    </tr>\n",
       "    <tr>\n",
       "      <th>LAVORATO JOHN J</th>\n",
       "      <td>339288.0</td>\n",
       "      <td>7259.0</td>\n",
       "      <td>10425757.0</td>\n",
       "      <td>4158995.0</td>\n",
       "      <td>8000000.0</td>\n",
       "      <td>1008149.0</td>\n",
       "      <td>3962.0</td>\n",
       "      <td>5167144.0</td>\n",
       "      <td>49537.0</td>\n",
       "      <td>2585.0</td>\n",
       "      <td>1552.0</td>\n",
       "      <td>411.0</td>\n",
       "      <td>False</td>\n",
       "      <td>528.0</td>\n",
       "    </tr>\n",
       "    <tr>\n",
       "      <th>SKILLING JEFFREY K</th>\n",
       "      <td>1111258.0</td>\n",
       "      <td>3627.0</td>\n",
       "      <td>8682716.0</td>\n",
       "      <td>19250000.0</td>\n",
       "      <td>5600000.0</td>\n",
       "      <td>6843672.0</td>\n",
       "      <td>2042.0</td>\n",
       "      <td>26093672.0</td>\n",
       "      <td>29336.0</td>\n",
       "      <td>108.0</td>\n",
       "      <td>22122.0</td>\n",
       "      <td>30.0</td>\n",
       "      <td>True</td>\n",
       "      <td>88.0</td>\n",
       "    </tr>\n",
       "  </tbody>\n",
       "</table>\n",
       "</div>"
      ],
      "text/plain": [
       "                       salary  to_messages  total_payments  \\\n",
       "LAY KENNETH L       1072321.0       4273.0     103559793.0   \n",
       "FREVERT MARK A      1060932.0       3275.0      17252530.0   \n",
       "BHATNAGAR SANJAY          NaN        523.0      15456290.0   \n",
       "LAVORATO JOHN J      339288.0       7259.0      10425757.0   \n",
       "SKILLING JEFFREY K  1111258.0       3627.0       8682716.0   \n",
       "\n",
       "                    exercised_stock_options      bonus  restricted_stock  \\\n",
       "LAY KENNETH L                    34348384.0  7000000.0        14761694.0   \n",
       "FREVERT MARK A                   10433518.0  2000000.0         4188667.0   \n",
       "BHATNAGAR SANJAY                  2604490.0        NaN        -2604490.0   \n",
       "LAVORATO JOHN J                   4158995.0  8000000.0         1008149.0   \n",
       "SKILLING JEFFREY K               19250000.0  5600000.0         6843672.0   \n",
       "\n",
       "                    shared_receipt_with_poi  total_stock_value  expenses  \\\n",
       "LAY KENNETH L                        2411.0         49110078.0   99832.0   \n",
       "FREVERT MARK A                       2979.0         14622185.0   86987.0   \n",
       "BHATNAGAR SANJAY                      463.0                NaN       NaN   \n",
       "LAVORATO JOHN J                      3962.0          5167144.0   49537.0   \n",
       "SKILLING JEFFREY K                   2042.0         26093672.0   29336.0   \n",
       "\n",
       "                    from_messages       other  from_this_person_to_poi    poi  \\\n",
       "LAY KENNETH L                36.0  10359729.0                     16.0   True   \n",
       "FREVERT MARK A               21.0   7427621.0                      6.0  False   \n",
       "BHATNAGAR SANJAY             29.0    137864.0                      1.0  False   \n",
       "LAVORATO JOHN J            2585.0      1552.0                    411.0  False   \n",
       "SKILLING JEFFREY K          108.0     22122.0                     30.0   True   \n",
       "\n",
       "                    from_poi_to_this_person  \n",
       "LAY KENNETH L                         123.0  \n",
       "FREVERT MARK A                        242.0  \n",
       "BHATNAGAR SANJAY                        0.0  \n",
       "LAVORATO JOHN J                       528.0  \n",
       "SKILLING JEFFREY K                     88.0  "
      ]
     },
     "execution_count": 10,
     "metadata": {},
     "output_type": "execute_result"
    }
   ],
   "source": [
    "# Find outliers by sorting\n",
    "df.sort_values(by=['total_payments'],ascending=False).head()\n"
   ]
  },
  {
   "cell_type": "code",
   "execution_count": 11,
   "metadata": {
    "pycharm": {
     "is_executing": false,
     "name": "#%%\n"
    }
   },
   "outputs": [],
   "source": [
    "# Drop LAY KENNETH L as he is an outlier\n",
    "df = df.drop(['LAY KENNETH L'])\n"
   ]
  },
  {
   "cell_type": "code",
   "execution_count": 12,
   "metadata": {
    "pycharm": {
     "is_executing": false,
     "name": "#%%\n"
    }
   },
   "outputs": [
    {
     "data": {
      "image/png": "[encoded data removed]",
      "text/plain": [
       "<Figure size 566.125x504 with 1 Axes>"
      ]
     },
     "metadata": {
      "needs_background": "light"
     },
     "output_type": "display_data"
    }
   ],
   "source": [
    "# Graph the salary and bonus's for each name and see if there is a correlation to the POI's\n",
    "sns.lmplot('total_payments', 'total_stock_value', data=df, hue='poi', fit_reg=False, height=7)\n",
    "plt.show()"
   ]
  },
  {
   "cell_type": "markdown",
   "metadata": {
    "pycharm": {
     "name": "#%% md\n"
    }
   },
   "source": [
    "This graph is much easier to read with the outliers. "
   ]
  },
  {
   "cell_type": "markdown",
   "metadata": {
    "pycharm": {
     "name": "#%% md\n"
    }
   },
   "source": [
    "# Question 2 \n",
    "\n",
    "**What features did you end up using in your POI identifier, and what selection process did you use to pick them? Did you have to do any scaling? Why or why not? As part of the assignment, you should attempt to engineer your own feature that does not come ready-made in the dataset -- explain what feature you tried to make, and the rationale behind it. (You do not necessarily have to use it in the final analysis, only engineer and test it.) In your feature selection step, if you used an algorithm like a decision tree, please also give the feature importances of the features that you use, and if you used an automated feature selection function like SelectKBest, please report the feature scores and reasons for your choice of parameter values.** \n",
    "\n"
   ]
  },
  {
   "cell_type": "markdown",
   "metadata": {
    "pycharm": {
     "name": "#%% md\n"
    }
   },
   "source": [
    "I also want to look at their total compensation package, total_payments plus total_stock_value to see if this feature would provide better results.\n",
    "\n",
    "I created the feature 'total_compensation' using the sum of 'total_payments' and 'total_stock_value'. This value fully emcompasses how an employee was compensated and could provide more information as to whether the person could be considered a 'poi'."
   ]
  },
  {
   "cell_type": "code",
   "execution_count": 13,
   "metadata": {
    "pycharm": {
     "is_executing": false,
     "name": "#%%\n"
    }
   },
   "outputs": [],
   "source": [
    "# Create and add feature to the dataframe.\n",
    "df['total_compensation'] = df.apply(lambda row: float(row.total_payments + \n",
    "                                                      row.total_stock_value), axis=1)\n"
   ]
  },
  {
   "cell_type": "markdown",
   "metadata": {},
   "source": [
    "I want to see if there is a correlation between 'total_compensation' and 'from_this_person_to_poi' or 'from_to_poi_this_person'. "
   ]
  },
  {
   "cell_type": "code",
   "execution_count": 14,
   "metadata": {
    "pycharm": {
     "is_executing": false
    }
   },
   "outputs": [
    {
     "data": {
      "text/plain": [
       "<seaborn.axisgrid.FacetGrid at 0x11aaf5d50>"
      ]
     },
     "execution_count": 14,
     "metadata": {},
     "output_type": "execute_result"
    },
    {
     "data": {
      "image/png": "[encoded data removed]",
      "text/plain": [
       "<Figure size 566.125x504 with 1 Axes>"
      ]
     },
     "metadata": {
      "needs_background": "light"
     },
     "output_type": "display_data"
    }
   ],
   "source": [
    "sns.lmplot('total_compensation', 'from_this_person_to_poi', \n",
    "           data=df, hue='poi', fit_reg=False, \n",
    "           height=7)\n",
    "\n",
    "sns.lmplot('total_compensation', 'from_to_poi_this_person', \n",
    "           data=df, hue='poi', fit_reg=False, \n",
    "           height=7)"
   ]
  },
  {
   "cell_type": "markdown",
   "metadata": {},
   "source": [
    "There does seem to be some type of correlation between this data. \n",
    "\n",
    "I will now use SKLearn's SelectKBest method for seeing which 5 features will have the highest F-Score. "
   ]
  },
  {
   "cell_type": "code",
   "execution_count": 15,
   "metadata": {
    "pycharm": {
     "is_executing": false,
     "name": "#%%\n"
    }
   },
   "outputs": [],
   "source": [
    "# Setting emply features list.\n",
    "features_list = []\n",
    "\n",
    "# Append features to the list\n",
    "for col in df.columns:\n",
    "    features_list.append(col)\n",
    "\n",
    "# Move 'poi' to front of list\n",
    "features_list.insert(0, features_list.pop(features_list.index('poi')))"
   ]
  },
  {
   "cell_type": "code",
   "execution_count": 16,
   "metadata": {
    "pycharm": {
     "is_executing": false,
     "name": "#%%\n"
    }
   },
   "outputs": [],
   "source": [
    "# Renaming to my_dataset\n",
    "my_dataset = df\n",
    "\n",
    "# Replacing the np.nan values with the string 'NaN' for preprocessing.\n",
    "my_dataset = my_dataset.replace(np.nan, 0)\n",
    "\n",
    "# Converting data back to dict for sklearn manipulation.\n",
    "my_dataset = my_dataset.to_dict('index')\n"
   ]
  },
  {
   "cell_type": "code",
   "execution_count": 18,
   "metadata": {
    "pycharm": {
     "is_executing": false,
     "name": "#%%\n"
    }
   },
   "outputs": [],
   "source": [
    "# Extract features and labels from dataset for local testing\n",
    "data = featureFormat(my_dataset, features_list, sort_keys = True)\n",
    "labels, features = targetFeatureSplit(data)\n"
   ]
  },
  {
   "cell_type": "code",
   "execution_count": 20,
   "metadata": {
    "pycharm": {
     "is_executing": false,
     "name": "#%% \n"
    }
   },
   "outputs": [
    {
     "name": "stderr",
     "output_type": "stream",
     "text": [
      "/Users/preston/PycharmProjects/MLProject/venv/lib/python2.7/site-packages/sklearn/utils/__init__.py:54: FutureWarning: Conversion of the second argument of issubdtype from `int` to `np.signedinteger` is deprecated. In future, it will be treated as `np.int64 == np.dtype(int).type`.\n",
      "  if np.issubdtype(mask.dtype, np.int):\n"
     ]
    }
   ],
   "source": [
    "# Import and run SelectKbest\n",
    "from sklearn.feature_selection import SelectKBest, f_classif\n",
    "\n",
    "clf = SelectKBest(f_classif, k=5)\n",
    "clf.fit_transform(features,labels)\n",
    "\n",
    "# Print the resulting labels\n",
    "k_best_lables = df.columns[clf.get_support(indices=True)]\n",
    "k_best_lables_scores = clf.scores_[clf.get_support()]\n",
    "\n",
    "labels_scores = list(zip(k_best_lables, k_best_lables_scores))\n",
    "labels_scores_df = pd.DataFrame(data = labels_scores, columns=['Feat_names', 'F_Scores'])\n",
    "\n",
    "#Sort the dataframe for better visualization\n",
    "labels_scores_df_sorted = labels_scores_df.sort_values(['F_Scores', 'Feat_names'], ascending = [False, True])\n",
    "print(labels_scores_df_sorted)"
   ]
  },
  {
   "cell_type": "markdown",
   "metadata": {
    "pycharm": {
     "name": "#%% md\n"
    }
   },
   "source": [
    "####  Select K Best results\n",
    "\n",
    "From the code above, you can see that SelectKBest returned these five features and their respective F-Scores as the best features.  \n",
    "\n",
    "| Feat_names  |  F_Scores |\n",
    "| --- | --- |\n",
    "| exercised_stock_options | 15.967730 |\n",
    "|  total_stock_value | 15.450997 |\n",
    "| from_poi_to_this_person |  15.290707 |\n",
    "|  bonus |  13.159868 |\n",
    "|  salary |  11.488864 |\n",
    "\n",
    "I can see that the feature I created, `'total_compensation'`, did not make the cut so I will not be using it in my analysis. "
   ]
  },
  {
   "cell_type": "markdown",
   "metadata": {},
   "source": [
    "\n"
   ]
  },
  {
   "cell_type": "markdown",
   "metadata": {
    "pycharm": {
     "name": "#%% md\n"
    }
   },
   "source": [
    "## Task 4:\n",
    "Try a varity of classifiers Please name your classifier clf for easy export below. Note that if you want to do PCA or other multi-stage operations, you'll need to use Pipelines. For more info: \n",
    "http://scikit-learn.org/stable/modules/pipeline.html"
   ]
  },
  {
   "cell_type": "code",
   "execution_count": 21,
   "metadata": {
    "pycharm": {
     "is_executing": false,
     "name": "#%%\n"
    }
   },
   "outputs": [
    {
     "data": {
      "text/plain": [
       "GaussianNB(priors=None)"
      ]
     },
     "execution_count": 21,
     "metadata": {},
     "output_type": "execute_result"
    }
   ],
   "source": [
    "# GaussianNB\n",
    "from sklearn.naive_bayes import GaussianNB\n",
    "clf = GaussianNB()\n",
    "clf.fit(features, labels)\n"
   ]
  },
  {
   "cell_type": "markdown",
   "metadata": {
    "pycharm": {
     "name": "#%% md\n"
    }
   },
   "source": [
    "tester.py returns the following output\n",
    "\n",
    "```\n",
    "GaussianNB(priors=None)\n",
    "        Accuracy: 0.82254       Precision: 0.38570      Recall: 0.25900 F1: 0.30990     F2: 0.27721\n",
    "        Total predictions: 13000        True positives:  518    False positives:  825   False negatives: 1482   True negatives: 10175\n",
    "```\n"
   ]
  },
  {
   "cell_type": "code",
   "execution_count": 22,
   "metadata": {
    "pycharm": {
     "is_executing": false,
     "name": "#%%\n"
    }
   },
   "outputs": [
    {
     "data": {
      "text/plain": [
       "DecisionTreeClassifier(class_weight=None, criterion='gini', max_depth=None,\n",
       "            max_features=None, max_leaf_nodes=None,\n",
       "            min_impurity_split=1e-07, min_samples_leaf=1,\n",
       "            min_samples_split=2, min_weight_fraction_leaf=0.0,\n",
       "            presort=False, random_state=None, splitter='best')"
      ]
     },
     "execution_count": 22,
     "metadata": {},
     "output_type": "execute_result"
    }
   ],
   "source": [
    "from sklearn import tree\n",
    "clf = tree.DecisionTreeClassifier()\n",
    "\n",
    "clf.fit(features, labels)\n"
   ]
  },
  {
   "cell_type": "markdown",
   "metadata": {},
   "source": [
    "tester.py returns the following output\n",
    "\n",
    "```\n",
    "DecisionTreeClassifier(class_weight=None, criterion='gini', max_depth=None,\n",
    "            max_features=None, max_leaf_nodes=None,\n",
    "            min_impurity_split=1e-07, min_samples_leaf=1,\n",
    "            min_samples_split=2, min_weight_fraction_leaf=0.0,\n",
    "            presort=False, random_state=None, splitter='best')\n",
    "        Accuracy: 0.76262       Precision: 0.22154      Recall: 0.21600 F1: 0.21873     F2: 0.21709\n",
    "        Total predictions: 13000        True positives:  432    False positives: 1518   False negatives: 1568   True negatives: 9482\n",
    "```"
   ]
  },
  {
   "cell_type": "code",
   "execution_count": 23,
   "metadata": {
    "pycharm": {
     "is_executing": false,
     "name": "#%%\n"
    }
   },
   "outputs": [],
   "source": [
    "### Use Sklearn's train_test_split model to separate data into testing and training data. \n",
    "\n",
    "from sklearn.cross_validation import train_test_split\n",
    "features_train, features_test, labels_train, labels_test = \\\n",
    "    train_test_split(features, labels, test_size=0.3, random_state=42)"
   ]
  },
  {
   "cell_type": "code",
   "execution_count": 24,
   "metadata": {
    "pycharm": {
     "is_executing": false,
     "name": "#%%\n"
    }
   },
   "outputs": [
    {
     "name": "stdout",
     "output_type": "stream",
     "text": [
      "Accuracy: 90%\n",
      "Precision: 33%\n",
      "Recall: 33%\n"
     ]
    }
   ],
   "source": [
    " \n",
    "from sklearn import metrics\n",
    "\n",
    "## Naive Bayes\n",
    "from sklearn.naive_bayes import GaussianNB\n",
    "\n",
    "nb_clf = GaussianNB()\n",
    "nb_clf.fit(features_train, labels_train)\n",
    "predict = nb_clf.predict(features_test)\n",
    "\n",
    "print \"Accuracy:\", \"{0:.0%}\".format(metrics.accuracy_score(labels_test, predict))\n",
    "print \"Precision:\", \"{0:.0%}\".format(metrics.precision_score(labels_test, predict))\n",
    "print \"Recall:\", \"{0:.0%}\".format(metrics.recall_score(labels_test, predict))\n"
   ]
  },
  {
   "cell_type": "code",
   "execution_count": 25,
   "metadata": {
    "pycharm": {
     "is_executing": false,
     "name": "#%%\n"
    }
   },
   "outputs": [
    {
     "name": "stdout",
     "output_type": "stream",
     "text": [
      "Accuracy: 93%\n",
      "Precision: 54%\n",
      "Recall: 93%\n"
     ]
    }
   ],
   "source": [
    "## Support Vector Machine Classifier\n",
    "from sklearn.svm import SVC\n",
    "svm_clf = SVC(C=1000, kernel='rbf', gamma='auto')\n",
    "\n",
    "svm_clf.fit(features_train, labels_train)\n",
    "predict = svm_clf.predict(features_test)\n",
    "\n",
    "print \"Accuracy:\", \"{0:.0%}\".format(metrics.accuracy_score(labels_test, predict))\n",
    "print \"Precision:\", \"{0:.0%}\".format(metrics.average_precision_score(labels_test, predict))\n",
    "print \"Recall:\", \"{0:.0%}\".format(metrics.recall_score(labels_test, predict, average='weighted'))"
   ]
  },
  {
   "cell_type": "code",
   "execution_count": 26,
   "metadata": {
    "pycharm": {
     "is_executing": false,
     "name": "#%%\n"
    }
   },
   "outputs": [
    {
     "name": "stdout",
     "output_type": "stream",
     "text": [
      "Accuracy: 93%\n",
      "Precision: 54%\n",
      "Recall: 93%\n"
     ]
    }
   ],
   "source": [
    "## Decision Tree\n",
    "from sklearn import tree\n",
    "dt_clf = tree.DecisionTreeClassifier(min_samples_split=30)\n",
    "\n",
    "dt_clf.fit(features_train, labels_train)\n",
    "predict = dt_clf.predict(features_test)\n",
    "\n",
    "print \"Accuracy:\", \"{0:.0%}\".format(metrics.accuracy_score(labels_test, predict))\n",
    "print \"Precision:\", \"{0:.0%}\".format(metrics.average_precision_score(labels_test, predict))\n",
    "print \"Recall:\", \"{0:.0%}\".format(metrics.recall_score(labels_test, predict, average='weighted'))\n",
    "\n"
   ]
  },
  {
   "cell_type": "markdown",
   "metadata": {
    "pycharm": {
     "name": "#%% md\n"
    }
   },
   "source": [
    "## Task 5: \n",
    "Tune your classifier to achieve better than .3 precision and recall using our testing script. Check the tester.py script in the final project folder for details on the evaluation method, especially the test_classifier function. Because of the small size of the dataset, the script uses stratified shuffle split cross validation. For more info: http://scikit-learn.org/stable/modules/generated/sklearn.cross_validation.StratifiedShuffleSplit.html\n"
   ]
  },
  {
   "cell_type": "code",
   "execution_count": 26,
   "metadata": {
    "pycharm": {
     "is_executing": false,
     "name": "#%%\n"
    }
   },
   "outputs": [],
   "source": []
  },
  {
   "cell_type": "markdown",
   "metadata": {
    "pycharm": {
     "is_executing": false,
     "name": "#%% md\n"
    }
   },
   "source": [
    "**1. Summarize for us the goal of this project and how machine learning is useful in trying to accomplish it. As part of your answer, give some background on the dataset and how it can be used to answer the project question. Were there any outliers in the data when you got it, and how did you handle those?**\n",
    "\n",
    "> The goal of this project is to train a supervised maching learning algorithm using data obtained from the Enron Scandal. This data set contains financial information and email data from various employees in the former company. Enron was an energy commodities and services corporation that went bankrupt in 2001 due to fraud. You can learn more about the scandal [here](https://en.wikipedia.org/wiki/Enron_scandal). This ML project will attempt to classify whether an Enron employee was a person of interest (POI).  \n",
    "<br>\n",
    "I converted the dataset to a pandas dataframe for easier manipulation and cleaning. Using `df.info()` i could set that there were 146 rows(names) and 21 columns(attributes). Since this was a low enough amount, I printed the names and reviewed for anything that might stick out to me. The rows, 'TOTAL' and 'THE TRAVEL AGENCY IN THE PARK' stuck out particularly as these are not names. I decided to remove them from the dataset using the `df.drop()` function. While reviewing the data table, I also noticed that 'LOCKHART EUGENE E' had no data and was not listed as a 'poi' so I removed this as well. I then replaced `'NaN'` values with `np.nan` to help with my data exploration.  \n",
    "<br>\n",
    "Since it is difficult to work with missing data, I decided to remove the features that had more than 50% missing data. Their were 6 features that were missing more than 50% data, these were the features that I removed.  \n",
    "- long_term_incentive          0.454545\n",
    "- deferred_income              0.335664\n",
    "- deferral_payments            0.265734\n",
    "- restricted_stock_deferred    0.118881\n",
    "- director_fees                0.111888\n",
    "- loan_advances                0.020979\n",
    "\n",
    "> I used a scatterplot chart to show the correlation between total_payments and total_stock_value. I could see that there was a datapoint that was clearly an outlier. Sorting the chart by 'total_payments', I could see that this was 'LAY KENNETH L' with 103,559,793.00. The next highest was 'FREVERT MARK A' with 17,252,530.00. I decided to remove 'LAY KENNETH L' so it would not alter the output too much. \n"
   ]
  },
  {
   "cell_type": "markdown",
   "metadata": {
    "pycharm": {
     "name": "#%% md\n"
    }
   },
   "source": [
    "**2. What features did you end up using in your POI identifier, and what selection process did you use to pick them? Did you have to do any scaling? Why or why not? As part of the assignment, you should attempt to engineer your own feature that does not come ready-made in the dataset -- explain what feature you tried to make, and the rationale behind it. (You do not necessarily have to use it in the final analysis, only engineer and test it.) In your feature selection step, if you used an algorithm like a decision tree, please also give the feature importances of the features that you use, and if you used an automated feature selection function like SelectKBest, please report the feature scores and reasons for your choice of parameter values.** \n",
    "\n",
    "> I also want to look at their total compensation package, total_payments plus total_stock_value to see if this feature would provide better results.\n",
    "<br>\n",
    "I created the feature 'total_compensation' using the sum of 'total_payments' and 'total_stock_value'. This value fully emcompasses how an employee was compensated and could provide more information as to whether the person could be considered a 'poi'.\n",
    "<br>\n",
    "After running SelectKBest on my data, 'total_compensation' did not make the cut, but 'from_poi_with_shared_receipt_percentage' returned an F-Score of 983.25. \n",
    "\n"
   ]
  },
  {
   "cell_type": "markdown",
   "metadata": {
    "pycharm": {
     "name": "#%% md\n"
    }
   },
   "source": [
    "**3. What algorithm did you end up using? What other one(s) did you try? How did model performance differ between algorithms?**\n",
    "\n",
    "> I tried many different algorithms to see which ones would have the best effect on this dataset. The algorithms included: \n",
    "- Gaussian Naive Bayes\n",
    "- Support Vector Machine\n",
    "- Decision Tree\n",
    "\n",
    "> The ranged from a high of 86% Naive Bayes to 84% with Decision Tree. \n"
   ]
  },
  {
   "cell_type": "markdown",
   "metadata": {
    "pycharm": {
     "name": "#%% md\n"
    }
   },
   "source": [
    "**4. What does it mean to tune the parameters of an algorithm, and what can happen if you don’t do this well?  How did you tune the parameters of your particular algorithm? What parameters did you tune? (Some algorithms do not have parameters that you need to tune -- if this is the case for the one you picked, identify and briefly explain how you would have done it for the model that was not your final choice or a different model that does utilize parameter tuning, e.g. a decision tree classifier).**\n",
    "\n",
    "> Tuning is essentially selecting the best parameters for an algorithm to optimize its performance. I experimented with the C* paramenter in the SVM algorithm to see if there would be an effect on the outcome. By increasing the C parameter  I was able to increase the Accuracy to 91%, Precision to 67%, and Recall stayed the same at 40%.  \n",
    "<br>\n",
    "*C : float, optional (default=1.0)  \n",
    "Definition: Penalty parameter C of the error term.\n"
   ]
  },
  {
   "cell_type": "markdown",
   "metadata": {
    "pycharm": {
     "name": "#%% md\n"
    }
   },
   "source": [
    "**5. What is validation, and what’s a classic mistake you can make if you do it wrong? How did you validate your analysis?**\n",
    "\n",
    "> Validation is the process of retaining a sample of the data set and using it to test the classifier once it has been tuned and trained. This is important, because if the classifier is only tuned using training and test sets, it may become overfitted to the test set and thus underperform in real life applications. The validation set therefore acts as a final check to ensure overfitting has not occurred.  \n",
    "<br>\n",
    "I used K-fold cross-validation function to randomly split the data into k samples and train the classifier on each of the k-1 samples, before validating it on the remaining data.  \n"
   ]
  },
  {
   "cell_type": "markdown",
   "metadata": {
    "pycharm": {
     "name": "#%% md\n"
    }
   },
   "source": [
    "**6. Give at least 2 evaluation metrics and your average performance for each of them.  Explain an interpretation of your metrics that says something human-understandable about your algorithm’s performance.**\n",
    "\n",
    "> I evaluated my classifier using the 'accuracy', ‘precision’ and ‘recall’ metrics. The precision metric, measures the exactness of the results and recall metric measures the completeness, or how much data was lost. In the context of this investigation, precision measures the proportion of correctly identified POIs out of the total number of individuals classified as POIs by our classifier. Recall measures the proportion of correctly identified POIs out of the total number of POIs in the data set. Running algorithms on the data has produced the following results. \n",
    "\n",
    "| Naive Bayes | Support Vector Machine | Decision Tree | Ada Boost | Random Forest\n",
    "| --- | --- | --- | ---| --- |\n",
    "Accuracy | 88% | 91% | 84% | 84% | 86%\n",
    "Precision | 50% | 67% | 33% | 25% | 33%\n",
    "Recall | 40% | 40% | 40% | 20% | 20%\n",
    "\n"
   ]
  }
 ],
 "metadata": {
  "kernelspec": {
   "display_name": "Python 3",
   "language": "python",
   "name": "python3"
  },
  "language_info": {
   "codemirror_mode": {
    "name": "ipython",
    "version": 3
   },
   "file_extension": ".py",
   "mimetype": "text/x-python",
   "name": "python",
   "nbconvert_exporter": "python",
   "pygments_lexer": "ipython3",
   "version": "3.7.4"
  },
  "pycharm": {
   "stem_cell": {
    "cell_type": "raw",
    "metadata": {
     "collapsed": false
    },
    "source": []
   }
  }
 },
 "nbformat": 4,
 "nbformat_minor": 1
}
